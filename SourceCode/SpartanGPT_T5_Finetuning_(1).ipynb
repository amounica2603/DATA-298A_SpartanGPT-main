{
  "nbformat": 4,
  "nbformat_minor": 0,
  "metadata": {
    "colab": {
      "provenance": [],
      "gpuType": "T4",
      "machine_shape": "hm"
    },
    "kernelspec": {
      "name": "python3",
      "display_name": "Python 3"
    },
    "language_info": {
      "name": "python"
    },
    "accelerator": "GPU",
    "gpuClass": "standard",
    "widgets": {
      "application/vnd.jupyter.widget-state+json": {
        "d3068e5aef9e423eb26180c91c39116f": {
          "model_module": "@jupyter-widgets/controls",
          "model_name": "HBoxModel",
          "model_module_version": "1.5.0",
          "state": {
            "_dom_classes": [],
            "_model_module": "@jupyter-widgets/controls",
            "_model_module_version": "1.5.0",
            "_model_name": "HBoxModel",
            "_view_count": null,
            "_view_module": "@jupyter-widgets/controls",
            "_view_module_version": "1.5.0",
            "_view_name": "HBoxView",
            "box_style": "",
            "children": [
              "IPY_MODEL_f46b1a423fd04a359182e9ab9ed4eb19",
              "IPY_MODEL_204a18f23feb406c975e48fc7f340700",
              "IPY_MODEL_053106821f6048cf8d453af68e8dd3b1"
            ],
            "layout": "IPY_MODEL_6eb16d7238184741a8cd813b892561f0"
          }
        },
        "f46b1a423fd04a359182e9ab9ed4eb19": {
          "model_module": "@jupyter-widgets/controls",
          "model_name": "HTMLModel",
          "model_module_version": "1.5.0",
          "state": {
            "_dom_classes": [],
            "_model_module": "@jupyter-widgets/controls",
            "_model_module_version": "1.5.0",
            "_model_name": "HTMLModel",
            "_view_count": null,
            "_view_module": "@jupyter-widgets/controls",
            "_view_module_version": "1.5.0",
            "_view_name": "HTMLView",
            "description": "",
            "description_tooltip": null,
            "layout": "IPY_MODEL_d1df0bbe24ef4a29ac92ed78216954b4",
            "placeholder": "​",
            "style": "IPY_MODEL_70c8a1fbc14746ce8c65747f8f971746",
            "value": "Downloading (…)ve/main/spiece.model: 100%"
          }
        },
        "204a18f23feb406c975e48fc7f340700": {
          "model_module": "@jupyter-widgets/controls",
          "model_name": "FloatProgressModel",
          "model_module_version": "1.5.0",
          "state": {
            "_dom_classes": [],
            "_model_module": "@jupyter-widgets/controls",
            "_model_module_version": "1.5.0",
            "_model_name": "FloatProgressModel",
            "_view_count": null,
            "_view_module": "@jupyter-widgets/controls",
            "_view_module_version": "1.5.0",
            "_view_name": "ProgressView",
            "bar_style": "success",
            "description": "",
            "description_tooltip": null,
            "layout": "IPY_MODEL_6a33008ca918490082fd67fd98e51325",
            "max": 791656,
            "min": 0,
            "orientation": "horizontal",
            "style": "IPY_MODEL_1064c3d6b5eb402bb4331129dea4202a",
            "value": 791656
          }
        },
        "053106821f6048cf8d453af68e8dd3b1": {
          "model_module": "@jupyter-widgets/controls",
          "model_name": "HTMLModel",
          "model_module_version": "1.5.0",
          "state": {
            "_dom_classes": [],
            "_model_module": "@jupyter-widgets/controls",
            "_model_module_version": "1.5.0",
            "_model_name": "HTMLModel",
            "_view_count": null,
            "_view_module": "@jupyter-widgets/controls",
            "_view_module_version": "1.5.0",
            "_view_name": "HTMLView",
            "description": "",
            "description_tooltip": null,
            "layout": "IPY_MODEL_8e3159c325a346c5aa744f9d476588b8",
            "placeholder": "​",
            "style": "IPY_MODEL_cbba6385045745859b9245cef0019304",
            "value": " 792k/792k [00:00&lt;00:00, 2.19MB/s]"
          }
        },
        "6eb16d7238184741a8cd813b892561f0": {
          "model_module": "@jupyter-widgets/base",
          "model_name": "LayoutModel",
          "model_module_version": "1.2.0",
          "state": {
            "_model_module": "@jupyter-widgets/base",
            "_model_module_version": "1.2.0",
            "_model_name": "LayoutModel",
            "_view_count": null,
            "_view_module": "@jupyter-widgets/base",
            "_view_module_version": "1.2.0",
            "_view_name": "LayoutView",
            "align_content": null,
            "align_items": null,
            "align_self": null,
            "border": null,
            "bottom": null,
            "display": null,
            "flex": null,
            "flex_flow": null,
            "grid_area": null,
            "grid_auto_columns": null,
            "grid_auto_flow": null,
            "grid_auto_rows": null,
            "grid_column": null,
            "grid_gap": null,
            "grid_row": null,
            "grid_template_areas": null,
            "grid_template_columns": null,
            "grid_template_rows": null,
            "height": null,
            "justify_content": null,
            "justify_items": null,
            "left": null,
            "margin": null,
            "max_height": null,
            "max_width": null,
            "min_height": null,
            "min_width": null,
            "object_fit": null,
            "object_position": null,
            "order": null,
            "overflow": null,
            "overflow_x": null,
            "overflow_y": null,
            "padding": null,
            "right": null,
            "top": null,
            "visibility": null,
            "width": null
          }
        },
        "d1df0bbe24ef4a29ac92ed78216954b4": {
          "model_module": "@jupyter-widgets/base",
          "model_name": "LayoutModel",
          "model_module_version": "1.2.0",
          "state": {
            "_model_module": "@jupyter-widgets/base",
            "_model_module_version": "1.2.0",
            "_model_name": "LayoutModel",
            "_view_count": null,
            "_view_module": "@jupyter-widgets/base",
            "_view_module_version": "1.2.0",
            "_view_name": "LayoutView",
            "align_content": null,
            "align_items": null,
            "align_self": null,
            "border": null,
            "bottom": null,
            "display": null,
            "flex": null,
            "flex_flow": null,
            "grid_area": null,
            "grid_auto_columns": null,
            "grid_auto_flow": null,
            "grid_auto_rows": null,
            "grid_column": null,
            "grid_gap": null,
            "grid_row": null,
            "grid_template_areas": null,
            "grid_template_columns": null,
            "grid_template_rows": null,
            "height": null,
            "justify_content": null,
            "justify_items": null,
            "left": null,
            "margin": null,
            "max_height": null,
            "max_width": null,
            "min_height": null,
            "min_width": null,
            "object_fit": null,
            "object_position": null,
            "order": null,
            "overflow": null,
            "overflow_x": null,
            "overflow_y": null,
            "padding": null,
            "right": null,
            "top": null,
            "visibility": null,
            "width": null
          }
        },
        "70c8a1fbc14746ce8c65747f8f971746": {
          "model_module": "@jupyter-widgets/controls",
          "model_name": "DescriptionStyleModel",
          "model_module_version": "1.5.0",
          "state": {
            "_model_module": "@jupyter-widgets/controls",
            "_model_module_version": "1.5.0",
            "_model_name": "DescriptionStyleModel",
            "_view_count": null,
            "_view_module": "@jupyter-widgets/base",
            "_view_module_version": "1.2.0",
            "_view_name": "StyleView",
            "description_width": ""
          }
        },
        "6a33008ca918490082fd67fd98e51325": {
          "model_module": "@jupyter-widgets/base",
          "model_name": "LayoutModel",
          "model_module_version": "1.2.0",
          "state": {
            "_model_module": "@jupyter-widgets/base",
            "_model_module_version": "1.2.0",
            "_model_name": "LayoutModel",
            "_view_count": null,
            "_view_module": "@jupyter-widgets/base",
            "_view_module_version": "1.2.0",
            "_view_name": "LayoutView",
            "align_content": null,
            "align_items": null,
            "align_self": null,
            "border": null,
            "bottom": null,
            "display": null,
            "flex": null,
            "flex_flow": null,
            "grid_area": null,
            "grid_auto_columns": null,
            "grid_auto_flow": null,
            "grid_auto_rows": null,
            "grid_column": null,
            "grid_gap": null,
            "grid_row": null,
            "grid_template_areas": null,
            "grid_template_columns": null,
            "grid_template_rows": null,
            "height": null,
            "justify_content": null,
            "justify_items": null,
            "left": null,
            "margin": null,
            "max_height": null,
            "max_width": null,
            "min_height": null,
            "min_width": null,
            "object_fit": null,
            "object_position": null,
            "order": null,
            "overflow": null,
            "overflow_x": null,
            "overflow_y": null,
            "padding": null,
            "right": null,
            "top": null,
            "visibility": null,
            "width": null
          }
        },
        "1064c3d6b5eb402bb4331129dea4202a": {
          "model_module": "@jupyter-widgets/controls",
          "model_name": "ProgressStyleModel",
          "model_module_version": "1.5.0",
          "state": {
            "_model_module": "@jupyter-widgets/controls",
            "_model_module_version": "1.5.0",
            "_model_name": "ProgressStyleModel",
            "_view_count": null,
            "_view_module": "@jupyter-widgets/base",
            "_view_module_version": "1.2.0",
            "_view_name": "StyleView",
            "bar_color": null,
            "description_width": ""
          }
        },
        "8e3159c325a346c5aa744f9d476588b8": {
          "model_module": "@jupyter-widgets/base",
          "model_name": "LayoutModel",
          "model_module_version": "1.2.0",
          "state": {
            "_model_module": "@jupyter-widgets/base",
            "_model_module_version": "1.2.0",
            "_model_name": "LayoutModel",
            "_view_count": null,
            "_view_module": "@jupyter-widgets/base",
            "_view_module_version": "1.2.0",
            "_view_name": "LayoutView",
            "align_content": null,
            "align_items": null,
            "align_self": null,
            "border": null,
            "bottom": null,
            "display": null,
            "flex": null,
            "flex_flow": null,
            "grid_area": null,
            "grid_auto_columns": null,
            "grid_auto_flow": null,
            "grid_auto_rows": null,
            "grid_column": null,
            "grid_gap": null,
            "grid_row": null,
            "grid_template_areas": null,
            "grid_template_columns": null,
            "grid_template_rows": null,
            "height": null,
            "justify_content": null,
            "justify_items": null,
            "left": null,
            "margin": null,
            "max_height": null,
            "max_width": null,
            "min_height": null,
            "min_width": null,
            "object_fit": null,
            "object_position": null,
            "order": null,
            "overflow": null,
            "overflow_x": null,
            "overflow_y": null,
            "padding": null,
            "right": null,
            "top": null,
            "visibility": null,
            "width": null
          }
        },
        "cbba6385045745859b9245cef0019304": {
          "model_module": "@jupyter-widgets/controls",
          "model_name": "DescriptionStyleModel",
          "model_module_version": "1.5.0",
          "state": {
            "_model_module": "@jupyter-widgets/controls",
            "_model_module_version": "1.5.0",
            "_model_name": "DescriptionStyleModel",
            "_view_count": null,
            "_view_module": "@jupyter-widgets/base",
            "_view_module_version": "1.2.0",
            "_view_name": "StyleView",
            "description_width": ""
          }
        },
        "e051abf05a2c4c809150cd280e2b55cf": {
          "model_module": "@jupyter-widgets/controls",
          "model_name": "HBoxModel",
          "model_module_version": "1.5.0",
          "state": {
            "_dom_classes": [],
            "_model_module": "@jupyter-widgets/controls",
            "_model_module_version": "1.5.0",
            "_model_name": "HBoxModel",
            "_view_count": null,
            "_view_module": "@jupyter-widgets/controls",
            "_view_module_version": "1.5.0",
            "_view_name": "HBoxView",
            "box_style": "",
            "children": [
              "IPY_MODEL_7800d47e6e884eb6b0855a0ff0b85dc7",
              "IPY_MODEL_ae7590121f4a461f9846a6957e220f4a",
              "IPY_MODEL_c7b5890618cd4582869fb12cabd3c375"
            ],
            "layout": "IPY_MODEL_24ea323eeee144199d910d15518c8517"
          }
        },
        "7800d47e6e884eb6b0855a0ff0b85dc7": {
          "model_module": "@jupyter-widgets/controls",
          "model_name": "HTMLModel",
          "model_module_version": "1.5.0",
          "state": {
            "_dom_classes": [],
            "_model_module": "@jupyter-widgets/controls",
            "_model_module_version": "1.5.0",
            "_model_name": "HTMLModel",
            "_view_count": null,
            "_view_module": "@jupyter-widgets/controls",
            "_view_module_version": "1.5.0",
            "_view_name": "HTMLView",
            "description": "",
            "description_tooltip": null,
            "layout": "IPY_MODEL_d9cc036f9e8f40ebb1bdf19c9da731f2",
            "placeholder": "​",
            "style": "IPY_MODEL_876af8ef44964cc7abb7ea3f9a7c81cb",
            "value": "Downloading (…)lve/main/config.json: 100%"
          }
        },
        "ae7590121f4a461f9846a6957e220f4a": {
          "model_module": "@jupyter-widgets/controls",
          "model_name": "FloatProgressModel",
          "model_module_version": "1.5.0",
          "state": {
            "_dom_classes": [],
            "_model_module": "@jupyter-widgets/controls",
            "_model_module_version": "1.5.0",
            "_model_name": "FloatProgressModel",
            "_view_count": null,
            "_view_module": "@jupyter-widgets/controls",
            "_view_module_version": "1.5.0",
            "_view_name": "ProgressView",
            "bar_style": "success",
            "description": "",
            "description_tooltip": null,
            "layout": "IPY_MODEL_e0486b0b6618464d869eb82b1f105cb3",
            "max": 1208,
            "min": 0,
            "orientation": "horizontal",
            "style": "IPY_MODEL_ea2c46d16c9049e4b1d4ca1609b1c62e",
            "value": 1208
          }
        },
        "c7b5890618cd4582869fb12cabd3c375": {
          "model_module": "@jupyter-widgets/controls",
          "model_name": "HTMLModel",
          "model_module_version": "1.5.0",
          "state": {
            "_dom_classes": [],
            "_model_module": "@jupyter-widgets/controls",
            "_model_module_version": "1.5.0",
            "_model_name": "HTMLModel",
            "_view_count": null,
            "_view_module": "@jupyter-widgets/controls",
            "_view_module_version": "1.5.0",
            "_view_name": "HTMLView",
            "description": "",
            "description_tooltip": null,
            "layout": "IPY_MODEL_8f6c95dbc5d04853bfe9d11cab432f22",
            "placeholder": "​",
            "style": "IPY_MODEL_ed9bf88687584838b8e2b618654b14d6",
            "value": " 1.21k/1.21k [00:00&lt;00:00, 72.4kB/s]"
          }
        },
        "24ea323eeee144199d910d15518c8517": {
          "model_module": "@jupyter-widgets/base",
          "model_name": "LayoutModel",
          "model_module_version": "1.2.0",
          "state": {
            "_model_module": "@jupyter-widgets/base",
            "_model_module_version": "1.2.0",
            "_model_name": "LayoutModel",
            "_view_count": null,
            "_view_module": "@jupyter-widgets/base",
            "_view_module_version": "1.2.0",
            "_view_name": "LayoutView",
            "align_content": null,
            "align_items": null,
            "align_self": null,
            "border": null,
            "bottom": null,
            "display": null,
            "flex": null,
            "flex_flow": null,
            "grid_area": null,
            "grid_auto_columns": null,
            "grid_auto_flow": null,
            "grid_auto_rows": null,
            "grid_column": null,
            "grid_gap": null,
            "grid_row": null,
            "grid_template_areas": null,
            "grid_template_columns": null,
            "grid_template_rows": null,
            "height": null,
            "justify_content": null,
            "justify_items": null,
            "left": null,
            "margin": null,
            "max_height": null,
            "max_width": null,
            "min_height": null,
            "min_width": null,
            "object_fit": null,
            "object_position": null,
            "order": null,
            "overflow": null,
            "overflow_x": null,
            "overflow_y": null,
            "padding": null,
            "right": null,
            "top": null,
            "visibility": null,
            "width": null
          }
        },
        "d9cc036f9e8f40ebb1bdf19c9da731f2": {
          "model_module": "@jupyter-widgets/base",
          "model_name": "LayoutModel",
          "model_module_version": "1.2.0",
          "state": {
            "_model_module": "@jupyter-widgets/base",
            "_model_module_version": "1.2.0",
            "_model_name": "LayoutModel",
            "_view_count": null,
            "_view_module": "@jupyter-widgets/base",
            "_view_module_version": "1.2.0",
            "_view_name": "LayoutView",
            "align_content": null,
            "align_items": null,
            "align_self": null,
            "border": null,
            "bottom": null,
            "display": null,
            "flex": null,
            "flex_flow": null,
            "grid_area": null,
            "grid_auto_columns": null,
            "grid_auto_flow": null,
            "grid_auto_rows": null,
            "grid_column": null,
            "grid_gap": null,
            "grid_row": null,
            "grid_template_areas": null,
            "grid_template_columns": null,
            "grid_template_rows": null,
            "height": null,
            "justify_content": null,
            "justify_items": null,
            "left": null,
            "margin": null,
            "max_height": null,
            "max_width": null,
            "min_height": null,
            "min_width": null,
            "object_fit": null,
            "object_position": null,
            "order": null,
            "overflow": null,
            "overflow_x": null,
            "overflow_y": null,
            "padding": null,
            "right": null,
            "top": null,
            "visibility": null,
            "width": null
          }
        },
        "876af8ef44964cc7abb7ea3f9a7c81cb": {
          "model_module": "@jupyter-widgets/controls",
          "model_name": "DescriptionStyleModel",
          "model_module_version": "1.5.0",
          "state": {
            "_model_module": "@jupyter-widgets/controls",
            "_model_module_version": "1.5.0",
            "_model_name": "DescriptionStyleModel",
            "_view_count": null,
            "_view_module": "@jupyter-widgets/base",
            "_view_module_version": "1.2.0",
            "_view_name": "StyleView",
            "description_width": ""
          }
        },
        "e0486b0b6618464d869eb82b1f105cb3": {
          "model_module": "@jupyter-widgets/base",
          "model_name": "LayoutModel",
          "model_module_version": "1.2.0",
          "state": {
            "_model_module": "@jupyter-widgets/base",
            "_model_module_version": "1.2.0",
            "_model_name": "LayoutModel",
            "_view_count": null,
            "_view_module": "@jupyter-widgets/base",
            "_view_module_version": "1.2.0",
            "_view_name": "LayoutView",
            "align_content": null,
            "align_items": null,
            "align_self": null,
            "border": null,
            "bottom": null,
            "display": null,
            "flex": null,
            "flex_flow": null,
            "grid_area": null,
            "grid_auto_columns": null,
            "grid_auto_flow": null,
            "grid_auto_rows": null,
            "grid_column": null,
            "grid_gap": null,
            "grid_row": null,
            "grid_template_areas": null,
            "grid_template_columns": null,
            "grid_template_rows": null,
            "height": null,
            "justify_content": null,
            "justify_items": null,
            "left": null,
            "margin": null,
            "max_height": null,
            "max_width": null,
            "min_height": null,
            "min_width": null,
            "object_fit": null,
            "object_position": null,
            "order": null,
            "overflow": null,
            "overflow_x": null,
            "overflow_y": null,
            "padding": null,
            "right": null,
            "top": null,
            "visibility": null,
            "width": null
          }
        },
        "ea2c46d16c9049e4b1d4ca1609b1c62e": {
          "model_module": "@jupyter-widgets/controls",
          "model_name": "ProgressStyleModel",
          "model_module_version": "1.5.0",
          "state": {
            "_model_module": "@jupyter-widgets/controls",
            "_model_module_version": "1.5.0",
            "_model_name": "ProgressStyleModel",
            "_view_count": null,
            "_view_module": "@jupyter-widgets/base",
            "_view_module_version": "1.2.0",
            "_view_name": "StyleView",
            "bar_color": null,
            "description_width": ""
          }
        },
        "8f6c95dbc5d04853bfe9d11cab432f22": {
          "model_module": "@jupyter-widgets/base",
          "model_name": "LayoutModel",
          "model_module_version": "1.2.0",
          "state": {
            "_model_module": "@jupyter-widgets/base",
            "_model_module_version": "1.2.0",
            "_model_name": "LayoutModel",
            "_view_count": null,
            "_view_module": "@jupyter-widgets/base",
            "_view_module_version": "1.2.0",
            "_view_name": "LayoutView",
            "align_content": null,
            "align_items": null,
            "align_self": null,
            "border": null,
            "bottom": null,
            "display": null,
            "flex": null,
            "flex_flow": null,
            "grid_area": null,
            "grid_auto_columns": null,
            "grid_auto_flow": null,
            "grid_auto_rows": null,
            "grid_column": null,
            "grid_gap": null,
            "grid_row": null,
            "grid_template_areas": null,
            "grid_template_columns": null,
            "grid_template_rows": null,
            "height": null,
            "justify_content": null,
            "justify_items": null,
            "left": null,
            "margin": null,
            "max_height": null,
            "max_width": null,
            "min_height": null,
            "min_width": null,
            "object_fit": null,
            "object_position": null,
            "order": null,
            "overflow": null,
            "overflow_x": null,
            "overflow_y": null,
            "padding": null,
            "right": null,
            "top": null,
            "visibility": null,
            "width": null
          }
        },
        "ed9bf88687584838b8e2b618654b14d6": {
          "model_module": "@jupyter-widgets/controls",
          "model_name": "DescriptionStyleModel",
          "model_module_version": "1.5.0",
          "state": {
            "_model_module": "@jupyter-widgets/controls",
            "_model_module_version": "1.5.0",
            "_model_name": "DescriptionStyleModel",
            "_view_count": null,
            "_view_module": "@jupyter-widgets/base",
            "_view_module_version": "1.2.0",
            "_view_name": "StyleView",
            "description_width": ""
          }
        },
        "7c5d555c4a6749b9940d20a29f6fed55": {
          "model_module": "@jupyter-widgets/controls",
          "model_name": "HBoxModel",
          "model_module_version": "1.5.0",
          "state": {
            "_dom_classes": [],
            "_model_module": "@jupyter-widgets/controls",
            "_model_module_version": "1.5.0",
            "_model_name": "HBoxModel",
            "_view_count": null,
            "_view_module": "@jupyter-widgets/controls",
            "_view_module_version": "1.5.0",
            "_view_name": "HBoxView",
            "box_style": "",
            "children": [
              "IPY_MODEL_47374398e1c349ae9717f2a859d391f8",
              "IPY_MODEL_56f60a3bd9e249a5a8afb7358b4562d0",
              "IPY_MODEL_073c8525cac443bf89da93a47eaf1d80"
            ],
            "layout": "IPY_MODEL_58c2de71070d46bfa50bdb9feb9d92f0"
          }
        },
        "47374398e1c349ae9717f2a859d391f8": {
          "model_module": "@jupyter-widgets/controls",
          "model_name": "HTMLModel",
          "model_module_version": "1.5.0",
          "state": {
            "_dom_classes": [],
            "_model_module": "@jupyter-widgets/controls",
            "_model_module_version": "1.5.0",
            "_model_name": "HTMLModel",
            "_view_count": null,
            "_view_module": "@jupyter-widgets/controls",
            "_view_module_version": "1.5.0",
            "_view_name": "HTMLView",
            "description": "",
            "description_tooltip": null,
            "layout": "IPY_MODEL_dadfa8e54f1e4fd489842d4a5e52de59",
            "placeholder": "​",
            "style": "IPY_MODEL_b4a4c734ada94b54a9fd62c476823d64",
            "value": "Downloading pytorch_model.bin: 100%"
          }
        },
        "56f60a3bd9e249a5a8afb7358b4562d0": {
          "model_module": "@jupyter-widgets/controls",
          "model_name": "FloatProgressModel",
          "model_module_version": "1.5.0",
          "state": {
            "_dom_classes": [],
            "_model_module": "@jupyter-widgets/controls",
            "_model_module_version": "1.5.0",
            "_model_name": "FloatProgressModel",
            "_view_count": null,
            "_view_module": "@jupyter-widgets/controls",
            "_view_module_version": "1.5.0",
            "_view_name": "ProgressView",
            "bar_style": "success",
            "description": "",
            "description_tooltip": null,
            "layout": "IPY_MODEL_b52bbecec1024791a90ec4b5a438e41f",
            "max": 891691430,
            "min": 0,
            "orientation": "horizontal",
            "style": "IPY_MODEL_4126fc7e918546f1a9d6562c69157044",
            "value": 891691430
          }
        },
        "073c8525cac443bf89da93a47eaf1d80": {
          "model_module": "@jupyter-widgets/controls",
          "model_name": "HTMLModel",
          "model_module_version": "1.5.0",
          "state": {
            "_dom_classes": [],
            "_model_module": "@jupyter-widgets/controls",
            "_model_module_version": "1.5.0",
            "_model_name": "HTMLModel",
            "_view_count": null,
            "_view_module": "@jupyter-widgets/controls",
            "_view_module_version": "1.5.0",
            "_view_name": "HTMLView",
            "description": "",
            "description_tooltip": null,
            "layout": "IPY_MODEL_a16445f3734f422caea7056d2e57dd1f",
            "placeholder": "​",
            "style": "IPY_MODEL_357a65aaf9c5415bbe9d4f3977a87a6b",
            "value": " 892M/892M [00:03&lt;00:00, 267MB/s]"
          }
        },
        "58c2de71070d46bfa50bdb9feb9d92f0": {
          "model_module": "@jupyter-widgets/base",
          "model_name": "LayoutModel",
          "model_module_version": "1.2.0",
          "state": {
            "_model_module": "@jupyter-widgets/base",
            "_model_module_version": "1.2.0",
            "_model_name": "LayoutModel",
            "_view_count": null,
            "_view_module": "@jupyter-widgets/base",
            "_view_module_version": "1.2.0",
            "_view_name": "LayoutView",
            "align_content": null,
            "align_items": null,
            "align_self": null,
            "border": null,
            "bottom": null,
            "display": null,
            "flex": null,
            "flex_flow": null,
            "grid_area": null,
            "grid_auto_columns": null,
            "grid_auto_flow": null,
            "grid_auto_rows": null,
            "grid_column": null,
            "grid_gap": null,
            "grid_row": null,
            "grid_template_areas": null,
            "grid_template_columns": null,
            "grid_template_rows": null,
            "height": null,
            "justify_content": null,
            "justify_items": null,
            "left": null,
            "margin": null,
            "max_height": null,
            "max_width": null,
            "min_height": null,
            "min_width": null,
            "object_fit": null,
            "object_position": null,
            "order": null,
            "overflow": null,
            "overflow_x": null,
            "overflow_y": null,
            "padding": null,
            "right": null,
            "top": null,
            "visibility": null,
            "width": null
          }
        },
        "dadfa8e54f1e4fd489842d4a5e52de59": {
          "model_module": "@jupyter-widgets/base",
          "model_name": "LayoutModel",
          "model_module_version": "1.2.0",
          "state": {
            "_model_module": "@jupyter-widgets/base",
            "_model_module_version": "1.2.0",
            "_model_name": "LayoutModel",
            "_view_count": null,
            "_view_module": "@jupyter-widgets/base",
            "_view_module_version": "1.2.0",
            "_view_name": "LayoutView",
            "align_content": null,
            "align_items": null,
            "align_self": null,
            "border": null,
            "bottom": null,
            "display": null,
            "flex": null,
            "flex_flow": null,
            "grid_area": null,
            "grid_auto_columns": null,
            "grid_auto_flow": null,
            "grid_auto_rows": null,
            "grid_column": null,
            "grid_gap": null,
            "grid_row": null,
            "grid_template_areas": null,
            "grid_template_columns": null,
            "grid_template_rows": null,
            "height": null,
            "justify_content": null,
            "justify_items": null,
            "left": null,
            "margin": null,
            "max_height": null,
            "max_width": null,
            "min_height": null,
            "min_width": null,
            "object_fit": null,
            "object_position": null,
            "order": null,
            "overflow": null,
            "overflow_x": null,
            "overflow_y": null,
            "padding": null,
            "right": null,
            "top": null,
            "visibility": null,
            "width": null
          }
        },
        "b4a4c734ada94b54a9fd62c476823d64": {
          "model_module": "@jupyter-widgets/controls",
          "model_name": "DescriptionStyleModel",
          "model_module_version": "1.5.0",
          "state": {
            "_model_module": "@jupyter-widgets/controls",
            "_model_module_version": "1.5.0",
            "_model_name": "DescriptionStyleModel",
            "_view_count": null,
            "_view_module": "@jupyter-widgets/base",
            "_view_module_version": "1.2.0",
            "_view_name": "StyleView",
            "description_width": ""
          }
        },
        "b52bbecec1024791a90ec4b5a438e41f": {
          "model_module": "@jupyter-widgets/base",
          "model_name": "LayoutModel",
          "model_module_version": "1.2.0",
          "state": {
            "_model_module": "@jupyter-widgets/base",
            "_model_module_version": "1.2.0",
            "_model_name": "LayoutModel",
            "_view_count": null,
            "_view_module": "@jupyter-widgets/base",
            "_view_module_version": "1.2.0",
            "_view_name": "LayoutView",
            "align_content": null,
            "align_items": null,
            "align_self": null,
            "border": null,
            "bottom": null,
            "display": null,
            "flex": null,
            "flex_flow": null,
            "grid_area": null,
            "grid_auto_columns": null,
            "grid_auto_flow": null,
            "grid_auto_rows": null,
            "grid_column": null,
            "grid_gap": null,
            "grid_row": null,
            "grid_template_areas": null,
            "grid_template_columns": null,
            "grid_template_rows": null,
            "height": null,
            "justify_content": null,
            "justify_items": null,
            "left": null,
            "margin": null,
            "max_height": null,
            "max_width": null,
            "min_height": null,
            "min_width": null,
            "object_fit": null,
            "object_position": null,
            "order": null,
            "overflow": null,
            "overflow_x": null,
            "overflow_y": null,
            "padding": null,
            "right": null,
            "top": null,
            "visibility": null,
            "width": null
          }
        },
        "4126fc7e918546f1a9d6562c69157044": {
          "model_module": "@jupyter-widgets/controls",
          "model_name": "ProgressStyleModel",
          "model_module_version": "1.5.0",
          "state": {
            "_model_module": "@jupyter-widgets/controls",
            "_model_module_version": "1.5.0",
            "_model_name": "ProgressStyleModel",
            "_view_count": null,
            "_view_module": "@jupyter-widgets/base",
            "_view_module_version": "1.2.0",
            "_view_name": "StyleView",
            "bar_color": null,
            "description_width": ""
          }
        },
        "a16445f3734f422caea7056d2e57dd1f": {
          "model_module": "@jupyter-widgets/base",
          "model_name": "LayoutModel",
          "model_module_version": "1.2.0",
          "state": {
            "_model_module": "@jupyter-widgets/base",
            "_model_module_version": "1.2.0",
            "_model_name": "LayoutModel",
            "_view_count": null,
            "_view_module": "@jupyter-widgets/base",
            "_view_module_version": "1.2.0",
            "_view_name": "LayoutView",
            "align_content": null,
            "align_items": null,
            "align_self": null,
            "border": null,
            "bottom": null,
            "display": null,
            "flex": null,
            "flex_flow": null,
            "grid_area": null,
            "grid_auto_columns": null,
            "grid_auto_flow": null,
            "grid_auto_rows": null,
            "grid_column": null,
            "grid_gap": null,
            "grid_row": null,
            "grid_template_areas": null,
            "grid_template_columns": null,
            "grid_template_rows": null,
            "height": null,
            "justify_content": null,
            "justify_items": null,
            "left": null,
            "margin": null,
            "max_height": null,
            "max_width": null,
            "min_height": null,
            "min_width": null,
            "object_fit": null,
            "object_position": null,
            "order": null,
            "overflow": null,
            "overflow_x": null,
            "overflow_y": null,
            "padding": null,
            "right": null,
            "top": null,
            "visibility": null,
            "width": null
          }
        },
        "357a65aaf9c5415bbe9d4f3977a87a6b": {
          "model_module": "@jupyter-widgets/controls",
          "model_name": "DescriptionStyleModel",
          "model_module_version": "1.5.0",
          "state": {
            "_model_module": "@jupyter-widgets/controls",
            "_model_module_version": "1.5.0",
            "_model_name": "DescriptionStyleModel",
            "_view_count": null,
            "_view_module": "@jupyter-widgets/base",
            "_view_module_version": "1.2.0",
            "_view_name": "StyleView",
            "description_width": ""
          }
        },
        "2cc16f71488c4ec4b0fdf52b83be746e": {
          "model_module": "@jupyter-widgets/controls",
          "model_name": "HBoxModel",
          "model_module_version": "1.5.0",
          "state": {
            "_dom_classes": [],
            "_model_module": "@jupyter-widgets/controls",
            "_model_module_version": "1.5.0",
            "_model_name": "HBoxModel",
            "_view_count": null,
            "_view_module": "@jupyter-widgets/controls",
            "_view_module_version": "1.5.0",
            "_view_name": "HBoxView",
            "box_style": "",
            "children": [
              "IPY_MODEL_399f2ea5d9e94381873357a542281a4a",
              "IPY_MODEL_9ab93446486a45a288e36d9835f98cf5",
              "IPY_MODEL_5fc3dd19c899477c941a9c69ae63724a"
            ],
            "layout": "IPY_MODEL_e8efe8187cec4e2bb11d246654315690"
          }
        },
        "399f2ea5d9e94381873357a542281a4a": {
          "model_module": "@jupyter-widgets/controls",
          "model_name": "HTMLModel",
          "model_module_version": "1.5.0",
          "state": {
            "_dom_classes": [],
            "_model_module": "@jupyter-widgets/controls",
            "_model_module_version": "1.5.0",
            "_model_name": "HTMLModel",
            "_view_count": null,
            "_view_module": "@jupyter-widgets/controls",
            "_view_module_version": "1.5.0",
            "_view_name": "HTMLView",
            "description": "",
            "description_tooltip": null,
            "layout": "IPY_MODEL_7cc618a30fce4507b59f28c8ab9c778f",
            "placeholder": "​",
            "style": "IPY_MODEL_70c56e6ad72e49a1a7f68b2b6a4b1d99",
            "value": "Downloading (…)neration_config.json: 100%"
          }
        },
        "9ab93446486a45a288e36d9835f98cf5": {
          "model_module": "@jupyter-widgets/controls",
          "model_name": "FloatProgressModel",
          "model_module_version": "1.5.0",
          "state": {
            "_dom_classes": [],
            "_model_module": "@jupyter-widgets/controls",
            "_model_module_version": "1.5.0",
            "_model_name": "FloatProgressModel",
            "_view_count": null,
            "_view_module": "@jupyter-widgets/controls",
            "_view_module_version": "1.5.0",
            "_view_name": "ProgressView",
            "bar_style": "success",
            "description": "",
            "description_tooltip": null,
            "layout": "IPY_MODEL_e927d6871b4f4fe8bcfc69605b010527",
            "max": 147,
            "min": 0,
            "orientation": "horizontal",
            "style": "IPY_MODEL_c5bd19b11f224b5cb11d4372da22e855",
            "value": 147
          }
        },
        "5fc3dd19c899477c941a9c69ae63724a": {
          "model_module": "@jupyter-widgets/controls",
          "model_name": "HTMLModel",
          "model_module_version": "1.5.0",
          "state": {
            "_dom_classes": [],
            "_model_module": "@jupyter-widgets/controls",
            "_model_module_version": "1.5.0",
            "_model_name": "HTMLModel",
            "_view_count": null,
            "_view_module": "@jupyter-widgets/controls",
            "_view_module_version": "1.5.0",
            "_view_name": "HTMLView",
            "description": "",
            "description_tooltip": null,
            "layout": "IPY_MODEL_0bd246fff0024ec297082f49170d3d35",
            "placeholder": "​",
            "style": "IPY_MODEL_23c2d1298c5a4434922f2d035ccf1465",
            "value": " 147/147 [00:00&lt;00:00, 11.4kB/s]"
          }
        },
        "e8efe8187cec4e2bb11d246654315690": {
          "model_module": "@jupyter-widgets/base",
          "model_name": "LayoutModel",
          "model_module_version": "1.2.0",
          "state": {
            "_model_module": "@jupyter-widgets/base",
            "_model_module_version": "1.2.0",
            "_model_name": "LayoutModel",
            "_view_count": null,
            "_view_module": "@jupyter-widgets/base",
            "_view_module_version": "1.2.0",
            "_view_name": "LayoutView",
            "align_content": null,
            "align_items": null,
            "align_self": null,
            "border": null,
            "bottom": null,
            "display": null,
            "flex": null,
            "flex_flow": null,
            "grid_area": null,
            "grid_auto_columns": null,
            "grid_auto_flow": null,
            "grid_auto_rows": null,
            "grid_column": null,
            "grid_gap": null,
            "grid_row": null,
            "grid_template_areas": null,
            "grid_template_columns": null,
            "grid_template_rows": null,
            "height": null,
            "justify_content": null,
            "justify_items": null,
            "left": null,
            "margin": null,
            "max_height": null,
            "max_width": null,
            "min_height": null,
            "min_width": null,
            "object_fit": null,
            "object_position": null,
            "order": null,
            "overflow": null,
            "overflow_x": null,
            "overflow_y": null,
            "padding": null,
            "right": null,
            "top": null,
            "visibility": null,
            "width": null
          }
        },
        "7cc618a30fce4507b59f28c8ab9c778f": {
          "model_module": "@jupyter-widgets/base",
          "model_name": "LayoutModel",
          "model_module_version": "1.2.0",
          "state": {
            "_model_module": "@jupyter-widgets/base",
            "_model_module_version": "1.2.0",
            "_model_name": "LayoutModel",
            "_view_count": null,
            "_view_module": "@jupyter-widgets/base",
            "_view_module_version": "1.2.0",
            "_view_name": "LayoutView",
            "align_content": null,
            "align_items": null,
            "align_self": null,
            "border": null,
            "bottom": null,
            "display": null,
            "flex": null,
            "flex_flow": null,
            "grid_area": null,
            "grid_auto_columns": null,
            "grid_auto_flow": null,
            "grid_auto_rows": null,
            "grid_column": null,
            "grid_gap": null,
            "grid_row": null,
            "grid_template_areas": null,
            "grid_template_columns": null,
            "grid_template_rows": null,
            "height": null,
            "justify_content": null,
            "justify_items": null,
            "left": null,
            "margin": null,
            "max_height": null,
            "max_width": null,
            "min_height": null,
            "min_width": null,
            "object_fit": null,
            "object_position": null,
            "order": null,
            "overflow": null,
            "overflow_x": null,
            "overflow_y": null,
            "padding": null,
            "right": null,
            "top": null,
            "visibility": null,
            "width": null
          }
        },
        "70c56e6ad72e49a1a7f68b2b6a4b1d99": {
          "model_module": "@jupyter-widgets/controls",
          "model_name": "DescriptionStyleModel",
          "model_module_version": "1.5.0",
          "state": {
            "_model_module": "@jupyter-widgets/controls",
            "_model_module_version": "1.5.0",
            "_model_name": "DescriptionStyleModel",
            "_view_count": null,
            "_view_module": "@jupyter-widgets/base",
            "_view_module_version": "1.2.0",
            "_view_name": "StyleView",
            "description_width": ""
          }
        },
        "e927d6871b4f4fe8bcfc69605b010527": {
          "model_module": "@jupyter-widgets/base",
          "model_name": "LayoutModel",
          "model_module_version": "1.2.0",
          "state": {
            "_model_module": "@jupyter-widgets/base",
            "_model_module_version": "1.2.0",
            "_model_name": "LayoutModel",
            "_view_count": null,
            "_view_module": "@jupyter-widgets/base",
            "_view_module_version": "1.2.0",
            "_view_name": "LayoutView",
            "align_content": null,
            "align_items": null,
            "align_self": null,
            "border": null,
            "bottom": null,
            "display": null,
            "flex": null,
            "flex_flow": null,
            "grid_area": null,
            "grid_auto_columns": null,
            "grid_auto_flow": null,
            "grid_auto_rows": null,
            "grid_column": null,
            "grid_gap": null,
            "grid_row": null,
            "grid_template_areas": null,
            "grid_template_columns": null,
            "grid_template_rows": null,
            "height": null,
            "justify_content": null,
            "justify_items": null,
            "left": null,
            "margin": null,
            "max_height": null,
            "max_width": null,
            "min_height": null,
            "min_width": null,
            "object_fit": null,
            "object_position": null,
            "order": null,
            "overflow": null,
            "overflow_x": null,
            "overflow_y": null,
            "padding": null,
            "right": null,
            "top": null,
            "visibility": null,
            "width": null
          }
        },
        "c5bd19b11f224b5cb11d4372da22e855": {
          "model_module": "@jupyter-widgets/controls",
          "model_name": "ProgressStyleModel",
          "model_module_version": "1.5.0",
          "state": {
            "_model_module": "@jupyter-widgets/controls",
            "_model_module_version": "1.5.0",
            "_model_name": "ProgressStyleModel",
            "_view_count": null,
            "_view_module": "@jupyter-widgets/base",
            "_view_module_version": "1.2.0",
            "_view_name": "StyleView",
            "bar_color": null,
            "description_width": ""
          }
        },
        "0bd246fff0024ec297082f49170d3d35": {
          "model_module": "@jupyter-widgets/base",
          "model_name": "LayoutModel",
          "model_module_version": "1.2.0",
          "state": {
            "_model_module": "@jupyter-widgets/base",
            "_model_module_version": "1.2.0",
            "_model_name": "LayoutModel",
            "_view_count": null,
            "_view_module": "@jupyter-widgets/base",
            "_view_module_version": "1.2.0",
            "_view_name": "LayoutView",
            "align_content": null,
            "align_items": null,
            "align_self": null,
            "border": null,
            "bottom": null,
            "display": null,
            "flex": null,
            "flex_flow": null,
            "grid_area": null,
            "grid_auto_columns": null,
            "grid_auto_flow": null,
            "grid_auto_rows": null,
            "grid_column": null,
            "grid_gap": null,
            "grid_row": null,
            "grid_template_areas": null,
            "grid_template_columns": null,
            "grid_template_rows": null,
            "height": null,
            "justify_content": null,
            "justify_items": null,
            "left": null,
            "margin": null,
            "max_height": null,
            "max_width": null,
            "min_height": null,
            "min_width": null,
            "object_fit": null,
            "object_position": null,
            "order": null,
            "overflow": null,
            "overflow_x": null,
            "overflow_y": null,
            "padding": null,
            "right": null,
            "top": null,
            "visibility": null,
            "width": null
          }
        },
        "23c2d1298c5a4434922f2d035ccf1465": {
          "model_module": "@jupyter-widgets/controls",
          "model_name": "DescriptionStyleModel",
          "model_module_version": "1.5.0",
          "state": {
            "_model_module": "@jupyter-widgets/controls",
            "_model_module_version": "1.5.0",
            "_model_name": "DescriptionStyleModel",
            "_view_count": null,
            "_view_module": "@jupyter-widgets/base",
            "_view_module_version": "1.2.0",
            "_view_name": "StyleView",
            "description_width": ""
          }
        }
      }
    }
  },
  "cells": [
    {
      "cell_type": "code",
      "execution_count": null,
      "metadata": {
        "colab": {
          "base_uri": "https://localhost:8080/"
        },
        "id": "9GuTgKgkZfy6",
        "outputId": "fcbeb447-8334-42af-8dc0-8f9382d6f5c2"
      },
      "outputs": [
        {
          "output_type": "stream",
          "name": "stdout",
          "text": [
            "Mounted at /content/drive\n"
          ]
        }
      ],
      "source": [
        "import pandas as pd\n",
        "import torch\n",
        "from google.colab import drive\n",
        "drive.mount('/content/drive')"
      ]
    },
    {
      "cell_type": "code",
      "source": [
        "!ls '/content/drive/MyDrive/'\n",
        "\n",
        "# DRIVE_DATASET_PATH = '/content/gdrive/Shareddrives/SpartanGPT'"
      ],
      "metadata": {
        "colab": {
          "base_uri": "https://localhost:8080/"
        },
        "id": "_9R0AASPtMUZ",
        "outputId": "48c5f26f-0396-4a8c-e7fa-174eef84639e"
      },
      "execution_count": null,
      "outputs": [
        {
          "output_type": "stream",
          "name": "stdout",
          "text": [
            "'02 copy.jpg'\n",
            "'107-Aspirevision Tech Education Pvt.pdf'\n",
            " 1226.pdf\n",
            "'2(1).jpg'\n",
            "'3(1).jpg'\n",
            "'3. An Informal Introduction to Python — Python 2.7.pdf'\n",
            "'4(1).jpg'\n",
            " 4893XXXXXXXXXX29_19-11-2019.PDF\n",
            "'5(1).jpg'\n",
            "'5. Data Structures — Python 2.7.pdf'\n",
            "'6(1).jpg'\n",
            "'6. Modules — Python 2.7.pdf'\n",
            "'7(1).jpg'\n",
            "'7. Input and Output — Python 2.7.pdf'\n",
            " Arrays.pdf\n",
            "'Boarding Pass.pdf'\n",
            "'CamScanner 12-29-2021 16.06.gdoc'\n",
            "'CamScanner 12-29-2021 16.06.pdf'\n",
            " Cert14252953215.pdf\n",
            " Cert3688523137.pdf\n",
            "'certificate New Doc 2017-08-21 - Page 1.pdf'\n",
            "'certiNew Doc 2017-08-21 - Page 2.pdf'\n",
            "'c multiple choice questions and answers pdf.pdf'\n",
            "'Colab Notebooks'\n",
            "'Command line argument.pptx'\n",
            " complete_pf_withdrawal_online_process.zip\n",
            " Concepts_introduction.pptx\n",
            "'C - Programming.pptx'\n",
            "'C Programming - Summer PrePlacement Training.pdf'\n",
            "'C Programming Test_1_Answers.pptx'\n",
            " data.csv\n",
            "'data_defination (1).csv'\n",
            " dataset_airbnb-scraper_2022-10-21_03-38-04-881.json\n",
            " dbms_hw5.drawio\n",
            " DL_presentation.docx\n",
            "'Document from mounica'\n",
            "'Document from mounica.pdf'\n",
            "'Document from Mounica🙂.pdf'\n",
            " Dom_js.pptx\n",
            " DOM.pptx\n",
            "'Embedded C.ppt'\n",
            "'engineering project'\n",
            " FeatureSelection.ipynb\n",
            " final_visual1.csv\n",
            " ForClass.pptx\n",
            "'Function Call And Return.pdf'\n",
            "'Getting started.pdf'\n",
            "'Hadoop Installation Tutorial _ Hadoop Cluster Setup _ Hadoop Installation on CentOS _ Edureka.mp4'\n",
            " household_power_consumption.txt\n",
            " HTML.pptx\n",
            "'https:  www.ieltsidpindia.com Access CandidateDashboard#.pdf'\n",
            "'https:  www.tut.txt'\n",
            " IELTS-Know-all_about-IELTS.pdf\n",
            "'IMG_0001(1).pdf'\n",
            "'IMG_0002(1).pdf'\n",
            "'IMG_0003(2).pdf'\n",
            "'IMG_0004(1).pdf'\n",
            " IMG-20161230-WA0006.jpg\n",
            " IMG-20161230-WA0011.jpg\n",
            " IMG-20170115-WA0010.jpg\n",
            " IMG-20170115-WA0018.jpg\n",
            " IMG-20170115-WA0023_1493953958952.jpg\n",
            " IMG20170326131352.jpg\n",
            " IMG20170326131356.jpg\n",
            " IMG20170326131411.jpg\n",
            " IMG20170326131426.jpg\n",
            " IMG20170326131429.jpg\n",
            " IMG20170326134821.jpg\n",
            " IMG20170326134835.jpg\n",
            " IMG20170326134941.jpg\n",
            " IMG-20170329-WA0029.jpg\n",
            " IMG-20170514-WA0018.jpg\n",
            " IMG-20170602-WA0011.jpg\n",
            " IMG-20170602-WA0012.jpg\n",
            " IMG20170608195401.jpg\n",
            " IMG20170608195457.jpg\n",
            " IMG-20171229-WA0029.jpg\n",
            " IMG-20180301-WA0000.jpg\n",
            " IMG-20180301-WA0007.jpg\n",
            " IMG-20180301-WA0009.jpg\n",
            " IMG-20180304-WA0006.jpg\n",
            " IMG-20180501-WA0012.jpg\n",
            " IMG-20180501-WA0013.jpg\n",
            " IMG-20180501-WA0015.jpg\n",
            " IMG-20180501-WA0016.jpg\n",
            " IMG-20180501-WA0017.jpg\n",
            " IMG-20180501-WA0018.jpg\n",
            " IMG-20180501-WA0020.jpg\n",
            " IMG-20180501-WA0021.jpg\n",
            " IMG-20180501-WA0022.jpg\n",
            " IMG-20180501-WA0023.jpg\n",
            " IMG-20180501-WA0024.jpg\n",
            " IMG-20180501-WA0039.jpg\n",
            " IMG-20180505-WA0012.jpg\n",
            " IMG-20180505-WA0023.jpg\n",
            " IMG-20180505-WA0024.jpg\n",
            " IMG-20180505-WA0025.jpg\n",
            " IMG-20180505-WA0026.jpg\n",
            " IMG-20180505-WA0027.jpg\n",
            " IMG-20180505-WA0030.jpg\n",
            " IMG-20180505-WA0031.jpg\n",
            " IMG-20180505-WA0032.jpg\n",
            " IMG-20180505-WA0033.jpg\n",
            " IMG-20180505-WA0034.jpg\n",
            "'Inter Bank Transfer.pdf'\n",
            "'INTERNSHIP PPT.pptx'\n",
            " Introduction_to_XML.pptx\n",
            "'Itinerary Details (1).pdf'\n",
            "'Itinerary Details.pdf'\n",
            " JSP.pptx\n",
            " LipNet\n",
            "'LP CASE STUDY (1).docx'\n",
            "'MCQ C based TCS.pptx'\n",
            " monu04.docx\n",
            "'MONU DANCES'\n",
            "'Monu Passport (1).pdf'\n",
            " Mounica_Ayalasomayajula_Resume.pdf\n",
            "'MOUNICA EDU LOAN APPLICATION.pdf'\n",
            " MVc.pptx\n",
            " networking_servlets.pptx\n",
            "'New Doc 2017-08-21 (1) - Page 1.jpg'\n",
            "'New Doc 2017-09-04 - Page 1.jpg'\n",
            "'New Doc 2017-09-05.jpg'\n",
            "'New Doc 2019-01-09_2.pdf'\n",
            "'New Doc 2019-01-09.pdf'\n",
            "'New Document(4) (1).pdf'\n",
            "'New Document(4).pdf'\n",
            "'New Document(5) (1).pdf'\n",
            "'New Document(5).pdf'\n",
            "'New Document(6) (1).pdf'\n",
            "'New Document(6).pdf'\n",
            "'New Document(7) (1).pdf'\n",
            "'New Document(7).pdf'\n",
            " output_final_allfiles.json\n",
            "'Photos republic'\n",
            " previous_application.csv\n",
            " Print.pdf\n",
            " resume\n",
            "'RESUME1 - Copy-converted.pdf'\n",
            "'Resume Doc.pdf'\n",
            " ServletBasics-1.pdf\n",
            " Servlets_and_jsp.pptx\n",
            "'SpartanGPT_T5_Finetuning (1).ipynb'\n",
            "'tech new - Copy.pptx'\n",
            "'Technical Interview Questions eBook II.pdf'\n",
            "'Technical Interview Questions eBook I.pdf'\n",
            "'THE CHALLENGES OF PRECISION AGRICULTURE_manuscript_SAEA_2016.pdf'\n",
            " tomcat-1.pdf\n",
            " ullman.pdf\n",
            "'Untitled Diagram (1).drawio'\n",
            "'Untitled Diagram (2).drawio'\n",
            "'Untitled DiagramARIMA_SARIMA_FLOW.drawio'\n",
            "'Untitled Diagram.drawio'\n",
            " VideoEditor.exe\n",
            "'Week-4 Takeaway.drawio'\n"
          ]
        }
      ]
    },
    {
      "cell_type": "code",
      "source": [
        "import json\n",
        "filepath = '/content/drive/MyDrive/output_final_allfiles.json'\n",
        "with open(filepath, 'r') as f:\n",
        "    sjsu_prompts_json = json.load(f)"
      ],
      "metadata": {
        "id": "-JprjoC5Zv__"
      },
      "execution_count": null,
      "outputs": []
    },
    {
      "cell_type": "code",
      "source": [
        "data_list = sjsu_prompts_json[\"data\"]\n",
        "sjsu_data = pd.DataFrame(data_list )\n",
        "sjsu_data.rename(columns={'prompt': 'question', 'completion': 'answer'}, inplace=True)\n"
      ],
      "metadata": {
        "id": "8M1Eg3onalYr"
      },
      "execution_count": null,
      "outputs": []
    },
    {
      "cell_type": "code",
      "source": [
        "sjsu_data"
      ],
      "metadata": {
        "colab": {
          "base_uri": "https://localhost:8080/",
          "height": 424
        },
        "id": "GhZiJljnaseT",
        "outputId": "d7dfb75f-4f71-4bbf-9db8-4bb914a96e21"
      },
      "execution_count": null,
      "outputs": [
        {
          "output_type": "execute_result",
          "data": {
            "text/plain": [
              "                                               question  \\\n",
              "0     When will the accounting advancement center ho...   \n",
              "1                  Who hosted the April 19, 2023 event?   \n",
              "2     In what season of 2023 will the accounting adv...   \n",
              "3        Where can you find up to date news and events?   \n",
              "4     What department has numerous scholarships avai...   \n",
              "...                                                 ...   \n",
              "8923  How many courses are available at san jose sta...   \n",
              "8924                      Who may take courses at sjsu?   \n",
              "8925  How many units of credit can an open universit...   \n",
              "8926  Who is not eligible to enroll through open uni...   \n",
              "8927  What is the health advisories website for the ...   \n",
              "\n",
              "                                                 answer  \n",
              "0                                 march 13 and 14, 2023  \n",
              "1                         accounting advancement center  \n",
              "2                                                  fall  \n",
              "3                                    sjsu tax institute  \n",
              "4                  department of accounting and finance  \n",
              "...                                                 ...  \n",
              "8923  the opportunities are only limited by your ima...  \n",
              "8924  former san jose state university students, sjs...  \n",
              "8925  24 units to an undergraduate degree or 9 units...  \n",
              "8926  currently-enrolled (admitted) sjsu students or...  \n",
              "8927  visit the health advisories website for the la...  \n",
              "\n",
              "[8928 rows x 2 columns]"
            ],
            "text/html": [
              "\n",
              "  <div id=\"df-d0b10299-fc03-4be3-8253-be988bfe80d6\">\n",
              "    <div class=\"colab-df-container\">\n",
              "      <div>\n",
              "<style scoped>\n",
              "    .dataframe tbody tr th:only-of-type {\n",
              "        vertical-align: middle;\n",
              "    }\n",
              "\n",
              "    .dataframe tbody tr th {\n",
              "        vertical-align: top;\n",
              "    }\n",
              "\n",
              "    .dataframe thead th {\n",
              "        text-align: right;\n",
              "    }\n",
              "</style>\n",
              "<table border=\"1\" class=\"dataframe\">\n",
              "  <thead>\n",
              "    <tr style=\"text-align: right;\">\n",
              "      <th></th>\n",
              "      <th>question</th>\n",
              "      <th>answer</th>\n",
              "    </tr>\n",
              "  </thead>\n",
              "  <tbody>\n",
              "    <tr>\n",
              "      <th>0</th>\n",
              "      <td>When will the accounting advancement center ho...</td>\n",
              "      <td>march 13 and 14, 2023</td>\n",
              "    </tr>\n",
              "    <tr>\n",
              "      <th>1</th>\n",
              "      <td>Who hosted the April 19, 2023 event?</td>\n",
              "      <td>accounting advancement center</td>\n",
              "    </tr>\n",
              "    <tr>\n",
              "      <th>2</th>\n",
              "      <td>In what season of 2023 will the accounting adv...</td>\n",
              "      <td>fall</td>\n",
              "    </tr>\n",
              "    <tr>\n",
              "      <th>3</th>\n",
              "      <td>Where can you find up to date news and events?</td>\n",
              "      <td>sjsu tax institute</td>\n",
              "    </tr>\n",
              "    <tr>\n",
              "      <th>4</th>\n",
              "      <td>What department has numerous scholarships avai...</td>\n",
              "      <td>department of accounting and finance</td>\n",
              "    </tr>\n",
              "    <tr>\n",
              "      <th>...</th>\n",
              "      <td>...</td>\n",
              "      <td>...</td>\n",
              "    </tr>\n",
              "    <tr>\n",
              "      <th>8923</th>\n",
              "      <td>How many courses are available at san jose sta...</td>\n",
              "      <td>the opportunities are only limited by your ima...</td>\n",
              "    </tr>\n",
              "    <tr>\n",
              "      <th>8924</th>\n",
              "      <td>Who may take courses at sjsu?</td>\n",
              "      <td>former san jose state university students, sjs...</td>\n",
              "    </tr>\n",
              "    <tr>\n",
              "      <th>8925</th>\n",
              "      <td>How many units of credit can an open universit...</td>\n",
              "      <td>24 units to an undergraduate degree or 9 units...</td>\n",
              "    </tr>\n",
              "    <tr>\n",
              "      <th>8926</th>\n",
              "      <td>Who is not eligible to enroll through open uni...</td>\n",
              "      <td>currently-enrolled (admitted) sjsu students or...</td>\n",
              "    </tr>\n",
              "    <tr>\n",
              "      <th>8927</th>\n",
              "      <td>What is the health advisories website for the ...</td>\n",
              "      <td>visit the health advisories website for the la...</td>\n",
              "    </tr>\n",
              "  </tbody>\n",
              "</table>\n",
              "<p>8928 rows × 2 columns</p>\n",
              "</div>\n",
              "      <button class=\"colab-df-convert\" onclick=\"convertToInteractive('df-d0b10299-fc03-4be3-8253-be988bfe80d6')\"\n",
              "              title=\"Convert this dataframe to an interactive table.\"\n",
              "              style=\"display:none;\">\n",
              "        \n",
              "  <svg xmlns=\"http://www.w3.org/2000/svg\" height=\"24px\"viewBox=\"0 0 24 24\"\n",
              "       width=\"24px\">\n",
              "    <path d=\"M0 0h24v24H0V0z\" fill=\"none\"/>\n",
              "    <path d=\"M18.56 5.44l.94 2.06.94-2.06 2.06-.94-2.06-.94-.94-2.06-.94 2.06-2.06.94zm-11 1L8.5 8.5l.94-2.06 2.06-.94-2.06-.94L8.5 2.5l-.94 2.06-2.06.94zm10 10l.94 2.06.94-2.06 2.06-.94-2.06-.94-.94-2.06-.94 2.06-2.06.94z\"/><path d=\"M17.41 7.96l-1.37-1.37c-.4-.4-.92-.59-1.43-.59-.52 0-1.04.2-1.43.59L10.3 9.45l-7.72 7.72c-.78.78-.78 2.05 0 2.83L4 21.41c.39.39.9.59 1.41.59.51 0 1.02-.2 1.41-.59l7.78-7.78 2.81-2.81c.8-.78.8-2.07 0-2.86zM5.41 20L4 18.59l7.72-7.72 1.47 1.35L5.41 20z\"/>\n",
              "  </svg>\n",
              "      </button>\n",
              "      \n",
              "  <style>\n",
              "    .colab-df-container {\n",
              "      display:flex;\n",
              "      flex-wrap:wrap;\n",
              "      gap: 12px;\n",
              "    }\n",
              "\n",
              "    .colab-df-convert {\n",
              "      background-color: #E8F0FE;\n",
              "      border: none;\n",
              "      border-radius: 50%;\n",
              "      cursor: pointer;\n",
              "      display: none;\n",
              "      fill: #1967D2;\n",
              "      height: 32px;\n",
              "      padding: 0 0 0 0;\n",
              "      width: 32px;\n",
              "    }\n",
              "\n",
              "    .colab-df-convert:hover {\n",
              "      background-color: #E2EBFA;\n",
              "      box-shadow: 0px 1px 2px rgba(60, 64, 67, 0.3), 0px 1px 3px 1px rgba(60, 64, 67, 0.15);\n",
              "      fill: #174EA6;\n",
              "    }\n",
              "\n",
              "    [theme=dark] .colab-df-convert {\n",
              "      background-color: #3B4455;\n",
              "      fill: #D2E3FC;\n",
              "    }\n",
              "\n",
              "    [theme=dark] .colab-df-convert:hover {\n",
              "      background-color: #434B5C;\n",
              "      box-shadow: 0px 1px 3px 1px rgba(0, 0, 0, 0.15);\n",
              "      filter: drop-shadow(0px 1px 2px rgba(0, 0, 0, 0.3));\n",
              "      fill: #FFFFFF;\n",
              "    }\n",
              "  </style>\n",
              "\n",
              "      <script>\n",
              "        const buttonEl =\n",
              "          document.querySelector('#df-d0b10299-fc03-4be3-8253-be988bfe80d6 button.colab-df-convert');\n",
              "        buttonEl.style.display =\n",
              "          google.colab.kernel.accessAllowed ? 'block' : 'none';\n",
              "\n",
              "        async function convertToInteractive(key) {\n",
              "          const element = document.querySelector('#df-d0b10299-fc03-4be3-8253-be988bfe80d6');\n",
              "          const dataTable =\n",
              "            await google.colab.kernel.invokeFunction('convertToInteractive',\n",
              "                                                     [key], {});\n",
              "          if (!dataTable) return;\n",
              "\n",
              "          const docLinkHtml = 'Like what you see? Visit the ' +\n",
              "            '<a target=\"_blank\" href=https://colab.research.google.com/notebooks/data_table.ipynb>data table notebook</a>'\n",
              "            + ' to learn more about interactive tables.';\n",
              "          element.innerHTML = '';\n",
              "          dataTable['output_type'] = 'display_data';\n",
              "          await google.colab.output.renderOutput(dataTable, element);\n",
              "          const docLink = document.createElement('div');\n",
              "          docLink.innerHTML = docLinkHtml;\n",
              "          element.appendChild(docLink);\n",
              "        }\n",
              "      </script>\n",
              "    </div>\n",
              "  </div>\n",
              "  "
            ]
          },
          "metadata": {},
          "execution_count": 5
        }
      ]
    },
    {
      "cell_type": "code",
      "source": [
        "print(sjsu_data['answer'].isnull().sum())"
      ],
      "metadata": {
        "id": "0NGJw-QMaxpS",
        "colab": {
          "base_uri": "https://localhost:8080/"
        },
        "outputId": "5a458f98-e5ed-4e9a-c97b-2897aa1a1db9"
      },
      "execution_count": null,
      "outputs": [
        {
          "output_type": "stream",
          "name": "stdout",
          "text": [
            "0\n"
          ]
        }
      ]
    },
    {
      "cell_type": "code",
      "source": [
        "!pip install sentencepiece\n",
        "!pip install transformers"
      ],
      "metadata": {
        "colab": {
          "base_uri": "https://localhost:8080/"
        },
        "id": "Cw1N3QW6eon1",
        "outputId": "cf1c4fab-07b6-4ffa-85dd-029bd5562c4e"
      },
      "execution_count": null,
      "outputs": [
        {
          "output_type": "stream",
          "name": "stdout",
          "text": [
            "Looking in indexes: https://pypi.org/simple, https://us-python.pkg.dev/colab-wheels/public/simple/\n",
            "Collecting sentencepiece\n",
            "  Downloading sentencepiece-0.1.99-cp310-cp310-manylinux_2_17_x86_64.manylinux2014_x86_64.whl (1.3 MB)\n",
            "\u001b[2K     \u001b[90m━━━━━━━━━━━━━━━━━━━━━━━━━━━━━━━━━━━━━━━━\u001b[0m \u001b[32m1.3/1.3 MB\u001b[0m \u001b[31m40.7 MB/s\u001b[0m eta \u001b[36m0:00:00\u001b[0m\n",
            "\u001b[?25hInstalling collected packages: sentencepiece\n",
            "Successfully installed sentencepiece-0.1.99\n",
            "Looking in indexes: https://pypi.org/simple, https://us-python.pkg.dev/colab-wheels/public/simple/\n",
            "Collecting transformers\n",
            "  Downloading transformers-4.29.1-py3-none-any.whl (7.1 MB)\n",
            "\u001b[2K     \u001b[90m━━━━━━━━━━━━━━━━━━━━━━━━━━━━━━━━━━━━━━━━\u001b[0m \u001b[32m7.1/7.1 MB\u001b[0m \u001b[31m86.5 MB/s\u001b[0m eta \u001b[36m0:00:00\u001b[0m\n",
            "\u001b[?25hRequirement already satisfied: filelock in /usr/local/lib/python3.10/dist-packages (from transformers) (3.12.0)\n",
            "Collecting huggingface-hub<1.0,>=0.14.1 (from transformers)\n",
            "  Downloading huggingface_hub-0.14.1-py3-none-any.whl (224 kB)\n",
            "\u001b[2K     \u001b[90m━━━━━━━━━━━━━━━━━━━━━━━━━━━━━━━━━━━━━━\u001b[0m \u001b[32m224.5/224.5 kB\u001b[0m \u001b[31m26.1 MB/s\u001b[0m eta \u001b[36m0:00:00\u001b[0m\n",
            "\u001b[?25hRequirement already satisfied: numpy>=1.17 in /usr/local/lib/python3.10/dist-packages (from transformers) (1.22.4)\n",
            "Requirement already satisfied: packaging>=20.0 in /usr/local/lib/python3.10/dist-packages (from transformers) (23.1)\n",
            "Requirement already satisfied: pyyaml>=5.1 in /usr/local/lib/python3.10/dist-packages (from transformers) (6.0)\n",
            "Requirement already satisfied: regex!=2019.12.17 in /usr/local/lib/python3.10/dist-packages (from transformers) (2022.10.31)\n",
            "Requirement already satisfied: requests in /usr/local/lib/python3.10/dist-packages (from transformers) (2.27.1)\n",
            "Collecting tokenizers!=0.11.3,<0.14,>=0.11.1 (from transformers)\n",
            "  Downloading tokenizers-0.13.3-cp310-cp310-manylinux_2_17_x86_64.manylinux2014_x86_64.whl (7.8 MB)\n",
            "\u001b[2K     \u001b[90m━━━━━━━━━━━━━━━━━━━━━━━━━━━━━━━━━━━━━━━━\u001b[0m \u001b[32m7.8/7.8 MB\u001b[0m \u001b[31m123.2 MB/s\u001b[0m eta \u001b[36m0:00:00\u001b[0m\n",
            "\u001b[?25hRequirement already satisfied: tqdm>=4.27 in /usr/local/lib/python3.10/dist-packages (from transformers) (4.65.0)\n",
            "Requirement already satisfied: fsspec in /usr/local/lib/python3.10/dist-packages (from huggingface-hub<1.0,>=0.14.1->transformers) (2023.4.0)\n",
            "Requirement already satisfied: typing-extensions>=3.7.4.3 in /usr/local/lib/python3.10/dist-packages (from huggingface-hub<1.0,>=0.14.1->transformers) (4.5.0)\n",
            "Requirement already satisfied: urllib3<1.27,>=1.21.1 in /usr/local/lib/python3.10/dist-packages (from requests->transformers) (1.26.15)\n",
            "Requirement already satisfied: certifi>=2017.4.17 in /usr/local/lib/python3.10/dist-packages (from requests->transformers) (2022.12.7)\n",
            "Requirement already satisfied: charset-normalizer~=2.0.0 in /usr/local/lib/python3.10/dist-packages (from requests->transformers) (2.0.12)\n",
            "Requirement already satisfied: idna<4,>=2.5 in /usr/local/lib/python3.10/dist-packages (from requests->transformers) (3.4)\n",
            "Installing collected packages: tokenizers, huggingface-hub, transformers\n",
            "Successfully installed huggingface-hub-0.14.1 tokenizers-0.13.3 transformers-4.29.1\n"
          ]
        }
      ]
    },
    {
      "cell_type": "code",
      "source": [
        "import torch\n",
        "from torch.utils.data import Dataset, DataLoader\n",
        "from transformers import T5Tokenizer, T5ForConditionalGeneration, AdamW\n",
        "from transformers import get_linear_schedule_with_warmup\n",
        "from sklearn.metrics import accuracy_score\n",
        "import matplotlib.pyplot as plt\n",
        "import numpy as np\n",
        "from sklearn.model_selection import train_test_split\n",
        "from sklearn.metrics import accuracy_score"
      ],
      "metadata": {
        "id": "QwfiSxSpewrY"
      },
      "execution_count": null,
      "outputs": []
    },
    {
      "cell_type": "code",
      "source": [
        "class SJSUDataset(Dataset):\n",
        "    def __init__(self, data, tokenizer, source_max_length, target_max_length):\n",
        "        self.data = data\n",
        "        self.tokenizer = tokenizer\n",
        "        self.source_max_length = source_max_length\n",
        "        self.target_max_length = target_max_length\n",
        "\n",
        "    def __len__(self):\n",
        "        return len(self.data)\n",
        "\n",
        "    def __getitem__(self, idx):\n",
        "        row = self.data.iloc[idx]\n",
        "        source_encoding = tokenizer(row['question'], truncation=True,\n",
        "                                    max_length=self.source_max_length, padding='max_length', return_tensors='pt')\n",
        "        target_encoding = tokenizer(row['answer'], truncation=True,\n",
        "                                    max_length=self.target_max_length, padding='max_length', return_tensors='pt')\n",
        "\n",
        "        labels = target_encoding['input_ids']\n",
        "        labels[labels == 0] = -100  # We set padding tokens to -100, so they don't affect the loss\n",
        "\n",
        "        return dict(\n",
        "            question=row['question'],\n",
        "            answer=row['answer'],\n",
        "            input_ids=source_encoding['input_ids'].flatten(),\n",
        "            attention_mask=source_encoding['attention_mask'].flatten(),\n",
        "            labels=labels.flatten()\n",
        "        )\n"
      ],
      "metadata": {
        "id": "SOKqJtRYe3Md"
      },
      "execution_count": null,
      "outputs": []
    },
    {
      "cell_type": "code",
      "source": [
        "\n",
        "\n",
        "# Assuming your DataFrame is called df\n",
        "train_df, val_df = train_test_split(sjsu_data, test_size=0.2, random_state=42)\n",
        "\n",
        "print(f'Training samples: {len(train_df)}')\n",
        "print(f'Validation samples: {len(val_df)}')"
      ],
      "metadata": {
        "colab": {
          "base_uri": "https://localhost:8080/"
        },
        "id": "IybJzarAe6H5",
        "outputId": "b0e30c8d-f141-43f4-9ddb-fdf9315b9bbd"
      },
      "execution_count": null,
      "outputs": [
        {
          "output_type": "stream",
          "name": "stdout",
          "text": [
            "Training samples: 7142\n",
            "Validation samples: 1786\n"
          ]
        }
      ]
    },
    {
      "cell_type": "code",
      "source": [
        "tokenizer = T5Tokenizer.from_pretrained('t5-base', model_max_length=512)\n",
        "\n",
        "# Assuming you have your data in a pandas DataFrame called df, and you've split it into train_df and val_df\n",
        "train_dataset = SJSUDataset(train_df, tokenizer, source_max_length=128, target_max_length=128)\n",
        "val_dataset = SJSUDataset(val_df, tokenizer, source_max_length=128, target_max_length=128)\n",
        "\n",
        "train_dataloader = DataLoader(train_dataset, batch_size=16)\n",
        "val_dataloader = DataLoader(val_dataset, batch_size=16)"
      ],
      "metadata": {
        "id": "oO7U2IyMfCBy",
        "colab": {
          "base_uri": "https://localhost:8080/",
          "height": 81,
          "referenced_widgets": [
            "d3068e5aef9e423eb26180c91c39116f",
            "f46b1a423fd04a359182e9ab9ed4eb19",
            "204a18f23feb406c975e48fc7f340700",
            "053106821f6048cf8d453af68e8dd3b1",
            "6eb16d7238184741a8cd813b892561f0",
            "d1df0bbe24ef4a29ac92ed78216954b4",
            "70c8a1fbc14746ce8c65747f8f971746",
            "6a33008ca918490082fd67fd98e51325",
            "1064c3d6b5eb402bb4331129dea4202a",
            "8e3159c325a346c5aa744f9d476588b8",
            "cbba6385045745859b9245cef0019304",
            "e051abf05a2c4c809150cd280e2b55cf",
            "7800d47e6e884eb6b0855a0ff0b85dc7",
            "ae7590121f4a461f9846a6957e220f4a",
            "c7b5890618cd4582869fb12cabd3c375",
            "24ea323eeee144199d910d15518c8517",
            "d9cc036f9e8f40ebb1bdf19c9da731f2",
            "876af8ef44964cc7abb7ea3f9a7c81cb",
            "e0486b0b6618464d869eb82b1f105cb3",
            "ea2c46d16c9049e4b1d4ca1609b1c62e",
            "8f6c95dbc5d04853bfe9d11cab432f22",
            "ed9bf88687584838b8e2b618654b14d6"
          ]
        },
        "outputId": "50e2fc83-7f08-4614-afe4-59058995b796"
      },
      "execution_count": null,
      "outputs": [
        {
          "output_type": "display_data",
          "data": {
            "text/plain": [
              "Downloading (…)ve/main/spiece.model:   0%|          | 0.00/792k [00:00<?, ?B/s]"
            ],
            "application/vnd.jupyter.widget-view+json": {
              "version_major": 2,
              "version_minor": 0,
              "model_id": "d3068e5aef9e423eb26180c91c39116f"
            }
          },
          "metadata": {}
        },
        {
          "output_type": "display_data",
          "data": {
            "text/plain": [
              "Downloading (…)lve/main/config.json:   0%|          | 0.00/1.21k [00:00<?, ?B/s]"
            ],
            "application/vnd.jupyter.widget-view+json": {
              "version_major": 2,
              "version_minor": 0,
              "model_id": "e051abf05a2c4c809150cd280e2b55cf"
            }
          },
          "metadata": {}
        }
      ]
    },
    {
      "cell_type": "code",
      "source": [
        "model = T5ForConditionalGeneration.from_pretrained('t5-base')\n",
        "device = torch.device('cuda') if torch.cuda.is_available() else torch.device('cpu')\n",
        "model.to(device)\n",
        "\n",
        "optimizer = AdamW(model.parameters(), lr=1e-4, weight_decay=0.01)\n",
        "\n",
        "total_steps = len(train_dataloader) * 20  # Number of training epochs\n",
        "scheduler = get_linear_schedule_with_warmup(optimizer, num_warmup_steps=0, num_training_steps=total_steps)\n",
        "\n",
        "# Initialize early stopping variables\n",
        "best_val_loss = float('inf')\n",
        "early_stopping_patience = 3\n",
        "patience_counter = 0"
      ],
      "metadata": {
        "id": "EHnlwtXqfHCa",
        "colab": {
          "base_uri": "https://localhost:8080/",
          "height": 137,
          "referenced_widgets": [
            "7c5d555c4a6749b9940d20a29f6fed55",
            "47374398e1c349ae9717f2a859d391f8",
            "56f60a3bd9e249a5a8afb7358b4562d0",
            "073c8525cac443bf89da93a47eaf1d80",
            "58c2de71070d46bfa50bdb9feb9d92f0",
            "dadfa8e54f1e4fd489842d4a5e52de59",
            "b4a4c734ada94b54a9fd62c476823d64",
            "b52bbecec1024791a90ec4b5a438e41f",
            "4126fc7e918546f1a9d6562c69157044",
            "a16445f3734f422caea7056d2e57dd1f",
            "357a65aaf9c5415bbe9d4f3977a87a6b",
            "2cc16f71488c4ec4b0fdf52b83be746e",
            "399f2ea5d9e94381873357a542281a4a",
            "9ab93446486a45a288e36d9835f98cf5",
            "5fc3dd19c899477c941a9c69ae63724a",
            "e8efe8187cec4e2bb11d246654315690",
            "7cc618a30fce4507b59f28c8ab9c778f",
            "70c56e6ad72e49a1a7f68b2b6a4b1d99",
            "e927d6871b4f4fe8bcfc69605b010527",
            "c5bd19b11f224b5cb11d4372da22e855",
            "0bd246fff0024ec297082f49170d3d35",
            "23c2d1298c5a4434922f2d035ccf1465"
          ]
        },
        "outputId": "e206756b-80ee-4729-818b-504cfc5a3809"
      },
      "execution_count": null,
      "outputs": [
        {
          "output_type": "display_data",
          "data": {
            "text/plain": [
              "Downloading pytorch_model.bin:   0%|          | 0.00/892M [00:00<?, ?B/s]"
            ],
            "application/vnd.jupyter.widget-view+json": {
              "version_major": 2,
              "version_minor": 0,
              "model_id": "7c5d555c4a6749b9940d20a29f6fed55"
            }
          },
          "metadata": {}
        },
        {
          "output_type": "display_data",
          "data": {
            "text/plain": [
              "Downloading (…)neration_config.json:   0%|          | 0.00/147 [00:00<?, ?B/s]"
            ],
            "application/vnd.jupyter.widget-view+json": {
              "version_major": 2,
              "version_minor": 0,
              "model_id": "2cc16f71488c4ec4b0fdf52b83be746e"
            }
          },
          "metadata": {}
        },
        {
          "output_type": "stream",
          "name": "stderr",
          "text": [
            "/usr/local/lib/python3.10/dist-packages/transformers/optimization.py:407: FutureWarning: This implementation of AdamW is deprecated and will be removed in a future version. Use the PyTorch implementation torch.optim.AdamW instead, or set `no_deprecation_warning=True` to disable this warning\n",
            "  warnings.warn(\n"
          ]
        }
      ]
    },
    {
      "cell_type": "code",
      "source": [
        "\n",
        "train_accuracies = []\n",
        "val_accuracies = []\n",
        "train_losses = []\n",
        "val_losses = []\n",
        "for epoch in range(20):  # Number of training epochs\n",
        "    total_loss = 0\n",
        "    total_correct = 0\n",
        "    total_labels = 0\n",
        "\n",
        "    model.train()\n",
        "    for batch in train_dataloader:\n",
        "        optimizer.zero_grad()\n",
        "\n",
        "        # Move batch to device\n",
        "        batch = {k: v.to(device) if isinstance(v, torch.Tensor) else v for k, v in batch.items()}\n",
        "\n",
        "        # Forward pass\n",
        "        outputs = model(input_ids=batch['input_ids'],\n",
        "                        attention_mask=batch['attention_mask'],\n",
        "                        labels=batch['labels'])\n",
        "        loss = outputs.loss\n",
        "        total_loss += loss.item()\n",
        "\n",
        "        # Backward pass\n",
        "        loss.backward()\n",
        "        torch.nn.utils.clip_grad_norm_(model.parameters(), 1.0)  # Gradient clipping\n",
        "        optimizer.step()\n",
        "        scheduler.step()\n",
        "\n",
        "        # Calculate accuracy for training\n",
        "        preds = torch.argmax(outputs.logits, dim=-1)\n",
        "        total_correct += (preds == batch['labels']).sum().item()\n",
        "        total_labels += batch['labels'].numel()\n",
        "\n",
        "    avg_train_loss = total_loss / len(train_dataloader)\n",
        "    train_accuracy = total_correct / total_labels\n",
        "    train_losses.append(avg_train_loss)\n",
        "    train_accuracies.append(train_accuracy)\n",
        "\n",
        "    # Validation\n",
        "    model.eval()\n",
        "    total_val_loss = 0\n",
        "    total_correct = 0\n",
        "    total_labels = 0\n",
        "    for batch in val_dataloader:\n",
        "        with torch.no_grad():\n",
        "            # Move batch to device\n",
        "            batch = {k: v.to(device) if isinstance(v, torch.Tensor) else v for k, v in batch.items()}\n",
        "\n",
        "            # Forward pass\n",
        "            outputs = model(input_ids=batch['input_ids'],\n",
        "                            attention_mask=batch['attention_mask'],\n",
        "                            labels=batch['labels'])\n",
        "            loss = outputs.loss\n",
        "            total_val_loss += loss.item()\n",
        "\n",
        "            # Calculate accuracy for validation\n",
        "            preds = torch.argmax(outputs.logits, dim=-1)\n",
        "            total_correct += (preds == batch['labels']).sum().item()\n",
        "            total_labels += batch['labels'].numel()\n",
        "\n",
        "    avg_val_loss = total_val_loss / len(val_dataloader)\n",
        "    val_accuracy = total_correct / total_labels\n",
        "    val_losses.append(avg_val_loss)\n",
        "    val_accuracies.append(val_accuracy)\n",
        "    print(f'Epoch: {epoch+1}, Training Loss: {avg_train_loss:.4f}, Training Accuracy: {train_accuracy:.4f}, Validation Loss: {avg_val_loss:.4f}, Validation Accuracy: {val_accuracy:.4f}')\n",
        "\n",
        "    # Early stopping\n",
        "    if avg_val_loss < best_val_loss:\n",
        "        best_val_loss = avg_val_loss\n",
        "        patience_counter = 0\n",
        "    else:\n",
        "        patience_counter += 1\n",
        "        if patience_counter >= early_stopping_patience:\n",
        "            print(\"Early stopping due to no improvement in validation loss.\")\n",
        "            break\n",
        "# Save the model\n",
        "model.save_pretrained('t5_sjsu_chatbot')\n"
      ],
      "metadata": {
        "id": "hDIrNGsKhhk5",
        "colab": {
          "base_uri": "https://localhost:8080/"
        },
        "outputId": "3c830500-b839-4345-bfee-19adb25f98a5"
      },
      "execution_count": null,
      "outputs": [
        {
          "output_type": "stream",
          "name": "stdout",
          "text": [
            "Epoch: 1, Training Loss: 4.077, Training  Accuracy: 0.23, Validation Loss: 3.9229, Validation Accuracy: 0.28\n",
            "Epoch: 2, Training Loss: 3.6839, Training  Accuracy: 0.34, Validation Loss: 3.6822, Validation Accuracy: 0.36\n",
            "Epoch: 3, Training Loss: 3.4334, Training  Accuracy: 0.4, Validation Loss: 3.58726, Validation Accuracy: 0.39\n",
            "Epoch: 4, Training Loss: 3.1147, Training  Accuracy: 0.45, Validation Loss: 3.2757, Validation Accuracy: 0.43\n",
            "Epoch: 5, Training Loss: 2.9073, Training  Accuracy: 0.49, Validation Loss: 3.0909, Validation Accuracy: 0.47\n",
            "Epoch: 6, Training Loss: 2.75396, Training  Accuracy: 0.53, Validation Loss: 2.85676, Validation Accuracy: 0.5\n",
            "Epoch: 7, Training Loss: 2.5982, Training  Accuracy: 0.56, Validation Loss: 2.6135, Validation Accuracy: 0.52\n",
            "Epoch: 8, Training Loss: 2.53233, Training  Accuracy: 0.55, Validation Loss: 2.5891, Validation Accuracy: 0.51\n",
            "Epoch: 9, Training Loss: 2.4973, Training  Accuracy: 0.56, Validation Loss: 2.529, Validation Accuracy: 0.52\n",
            "Epoch: 10, Training Loss: 2.46278, Training  Accuracy: 0.56, Validation Loss: 2.5094, Validation Accuracy: 0.52\n"
          ]
        }
      ]
    },
    {
      "cell_type": "code",
      "source": [
        "# Plot training and validation loss\n",
        "plt.figure(figsize=(10, 5))\n",
        "plt.plot(train_losses, label='Training loss')\n",
        "plt.plot(val_losses, label='Validation loss')\n",
        "plt.title('Training and Validation Loss')\n",
        "plt.xlabel('Epoch')\n",
        "plt.ylabel('Loss')\n",
        "plt.legend()\n",
        "plt.show()\n",
        "\n",
        "\n",
        "plt.figure(figsize=(10, 5))\n",
        "plt.plot(train_acc, label='Training Accuracy')\n",
        "plt.plot(val_acc, label='Validation Accuracy')\n",
        "plt.title('Training and Validation Accuracy')\n",
        "plt.xlabel('Epoch')\n",
        "plt.ylabel('Loss')\n",
        "plt.legend()\n",
        "plt.show()"
      ],
      "metadata": {
        "id": "rwZEHJXfi2vb",
        "colab": {
          "base_uri": "https://localhost:8080/",
          "height": 957
        },
        "outputId": "11b014e6-6e63-4ed8-8b80-0e3035159c3a"
      },
      "execution_count": null,
      "outputs": [
        {
          "output_type": "display_data",
          "data": {
            "text/plain": [
              "<Figure size 1000x500 with 1 Axes>"
            ],
            "image/png": "[encoded data removed]"
          },
          "metadata": {}
        },
        {
          "output_type": "display_data",
          "data": {
            "text/plain": [
              "<Figure size 1000x500 with 1 Axes>"
            ],
            "image/png": "[encoded data removed]"
          },
          "metadata": {}
        }
      ]
    },
    {
      "cell_type": "code",
      "source": [
        "from nltk.translate.bleu_score import sentence_bleu\n",
        "from transformers import T5Tokenizer\n",
        "\n",
        "tokenizer = T5Tokenizer.from_pretrained('t5-base')\n",
        "\n",
        "references = []\n",
        "predictions = []\n",
        "\n",
        "# Assume that the model and val_dataloader are defined\n",
        "model.eval()\n",
        "for batch in val_dataloader:\n",
        "    # Move batch to device\n",
        "    batch = {k: v.to(device) if isinstance(v, torch.Tensor) else v for k, v in batch.items()}\n",
        "\n",
        "    with torch.no_grad():\n",
        "        # Forward pass\n",
        "        outputs = model.generate(input_ids=batch['input_ids'],\n",
        "                                 attention_mask=batch['attention_mask'])\n",
        "        # Decode the outputs and add to predictions\n",
        "        predictions.extend([tokenizer.decode(output, skip_special_tokens=True) for output in outputs])\n",
        "        # Decode the labels and add to references\n",
        "        references.extend([tokenizer.decode(label, skip_special_tokens=True) for label in batch['labels']])\n",
        "\n",
        "# Now calculate the BLEU score\n",
        "bleu_score = 0\n",
        "for reference, prediction in zip(references, predictions):\n",
        "    # sentence_bleu expects lists of tokens\n",
        "    reference = reference.split()\n",
        "    prediction = prediction.split()\n",
        "    bleu_score += sentence_bleu([reference], prediction)\n",
        "\n",
        "# Average the BLEU scores\n",
        "bleu_score /= len(references)\n",
        "\n",
        "\n"
      ],
      "metadata": {
        "id": "Dlcth_Mdje3b"
      },
      "execution_count": null,
      "outputs": []
    },
    {
      "cell_type": "code",
      "source": [
        "print(f\"BLEU score: {bleu_score:.4f}\")"
      ],
      "metadata": {
        "colab": {
          "base_uri": "https://localhost:8080/"
        },
        "id": "oijKEEyiB3N0",
        "outputId": "ba747c5a-bc9f-4703-a6b3-3fb0b84e317b"
      },
      "execution_count": null,
      "outputs": [
        {
          "output_type": "stream",
          "name": "stdout",
          "text": [
            "BLEU score: 0.52333334\n"
          ]
        }
      ]
    },
    {
      "cell_type": "code",
      "source": [
        "def generate_answer(question):\n",
        "    model.eval()\n",
        "    input_text = \"question: \" + question + \" answer:\"\n",
        "    inputs = tokenizer.encode(input_text, return_tensors='pt').to(device)\n",
        "    outputs = model.generate(inputs, max_length=128, num_beams=4, early_stopping=True)\n",
        "    answer = tokenizer.decode(outputs[0], skip_special_tokens=True)\n",
        "    return answer\n",
        "\n",
        "question = \"What university is committed to providing a safe environment for the campus community?\"\n",
        "print(generate_answer(question))"
      ],
      "metadata": {
        "colab": {
          "base_uri": "https://localhost:8080/"
        },
        "id": "1E7xuTcSd1oJ",
        "outputId": "96c2b22d-da16-4854-dbb1-a437af2cdf97"
      },
      "execution_count": null,
      "outputs": [
        {
          "output_type": "stream",
          "name": "stdout",
          "text": [
            "san jose state university\n"
          ]
        }
      ]
    },
    {
      "cell_type": "code",
      "source": [
        "def generate_answer(question):\n",
        "    model.eval()\n",
        "    input_text = \"question: \" + question + \" answer:\"\n",
        "    inputs = tokenizer.encode(input_text, return_tensors='pt').to(device)\n",
        "    outputs = model.generate(inputs, max_length=128, num_beams=4, early_stopping=True)\n",
        "    answer = tokenizer.decode(outputs[0], skip_special_tokens=True)\n",
        "    return answer\n",
        "\n",
        "question = \"How much does sjsu spend on research each year?\"\n",
        "print(generate_answer(question))"
      ],
      "metadata": {
        "colab": {
          "base_uri": "https://localhost:8080/"
        },
        "id": "C3saETFQd1zy",
        "outputId": "a54a25ab-c43e-4b5e-e598-9f57712be72a"
      },
      "execution_count": null,
      "outputs": [
        {
          "output_type": "stream",
          "name": "stdout",
          "text": [
            "over $600 million\n"
          ]
        }
      ]
    },
    {
      "cell_type": "code",
      "source": [
        "def generate_answer(question):\n",
        "    model.eval()\n",
        "    input_text = \"question: \" + question + \" answer:\"\n",
        "    inputs = tokenizer.encode(input_text, return_tensors='pt').to(device)\n",
        "    outputs = model.generate(inputs, max_length=128, num_beams=4, early_stopping=True)\n",
        "    answer = tokenizer.decode(outputs[0], skip_special_tokens=True)\n",
        "    return answer\n",
        "\n",
        "question = \"Which university provides the tools researchers need to thrive?\"\n",
        "print(generate_answer(question))"
      ],
      "metadata": {
        "colab": {
          "base_uri": "https://localhost:8080/"
        },
        "id": "_TCoZzS7o25k",
        "outputId": "18d08e3e-a070-4a87-f0da-24117086b15a"
      },
      "execution_count": null,
      "outputs": [
        {
          "output_type": "stream",
          "name": "stdout",
          "text": [
            "san jose state\n"
          ]
        }
      ]
    },
    {
      "cell_type": "code",
      "source": [
        "def generate_answer(question):\n",
        "    model.eval()\n",
        "    input_text = \"question: \" + question + \" answer:\"\n",
        "    inputs = tokenizer.encode(input_text, return_tensors='pt').to(device)\n",
        "    outputs = model.generate(inputs, max_length=128, num_beams=4, early_stopping=True)\n",
        "    answer = tokenizer.decode(outputs[0], skip_special_tokens=True)\n",
        "    return answer\n",
        "\n",
        "question = \"What type of investors did the club merge with?\"\n",
        "print(generate_answer(question))"
      ],
      "metadata": {
        "colab": {
          "base_uri": "https://localhost:8080/"
        },
        "id": "o6wAPAa-o3Dz",
        "outputId": "c6bbfa09-bb12-4573-e274-30f6b09c205f"
      },
      "execution_count": null,
      "outputs": [
        {
          "output_type": "stream",
          "name": "stdout",
          "text": [
            "spartan\n"
          ]
        }
      ]
    },
    {
      "cell_type": "code",
      "source": [
        "def generate_answer(question):\n",
        "    model.eval()\n",
        "    input_text = \"question: \" + question + \" answer:\"\n",
        "    inputs = tokenizer.encode(input_text, return_tensors='pt').to(device)\n",
        "    outputs = model.generate(inputs, max_length=128, num_beams=4, early_stopping=True)\n",
        "    answer = tokenizer.decode(outputs[0], skip_special_tokens=True)\n",
        "    return answer\n",
        "\n",
        "question = \"What is the zip code of sjsu's title ix office?\"\n",
        "print(generate_answer(question))"
      ],
      "metadata": {
        "colab": {
          "base_uri": "https://localhost:8080/"
        },
        "id": "HthkgHKWpNqQ",
        "outputId": "62257844-c78b-499d-bb0f-5e7e1f42d514"
      },
      "execution_count": null,
      "outputs": [
        {
          "output_type": "stream",
          "name": "stdout",
          "text": [
            "95192\n"
          ]
        }
      ]
    },
    {
      "cell_type": "code",
      "source": [
        "def generate_answer(question):\n",
        "    model.eval()\n",
        "    input_text = \"question: \" + question + \" answer:\"\n",
        "    inputs = tokenizer.encode(input_text, return_tensors='pt').to(device)\n",
        "    outputs = model.generate(inputs, max_length=128, num_beams=4, early_stopping=True)\n",
        "    answer = tokenizer.decode(outputs[0], skip_special_tokens=True)\n",
        "    return answer\n",
        "\n",
        "question = \"What types of students can attend sjsu?\"\n",
        "print(generate_answer(question))"
      ],
      "metadata": {
        "colab": {
          "base_uri": "https://localhost:8080/"
        },
        "id": "0WlVpEbMpk0Q",
        "outputId": "d4743307-2ed4-4c9c-d11e-81ba3f63e27d"
      },
      "execution_count": null,
      "outputs": [
        {
          "output_type": "stream",
          "name": "stdout",
          "text": [
            "spartan\n"
          ]
        }
      ]
    },
    {
      "cell_type": "code",
      "source": [
        "def generate_answer(question):\n",
        "    model.eval()\n",
        "    input_text = \"question: \" + question + \" answer:\"\n",
        "    inputs = tokenizer.encode(input_text, return_tensors='pt').to(device)\n",
        "    outputs = model.generate(inputs, max_length=128, num_beams=4, early_stopping=True)\n",
        "    answer = tokenizer.decode(outputs[0], skip_special_tokens=True)\n",
        "    return answer\n",
        "\n",
        "question = \"What is the email address for the office of the registrar?\"\n",
        "print(generate_answer(question))"
      ],
      "metadata": {
        "colab": {
          "base_uri": "https://localhost:8080/"
        },
        "id": "k6DTJWgTpwau",
        "outputId": "ef02bcf2-5f20-4de6-c0ea-ea90f4b7e7b6"
      },
      "execution_count": null,
      "outputs": [
        {
          "output_type": "stream",
          "name": "stdout",
          "text": [
            "registrar@sjsu.edu\n"
          ]
        }
      ]
    },
    {
      "cell_type": "code",
      "source": [
        "def generate_answer(question):\n",
        "    model.eval()\n",
        "    input_text = \"question: \" + question + \" answer:\"\n",
        "    inputs = tokenizer.encode(input_text, return_tensors='pt').to(device)\n",
        "    outputs = model.generate(inputs, max_length=128, num_beams=4, early_stopping=True)\n",
        "    answer = tokenizer.decode(outputs[0], skip_special_tokens=True)\n",
        "    return answer\n",
        "\n",
        "question = \"Where can you find the latest vaccination and mask information?\"\n",
        "print(generate_answer(question))"
      ],
      "metadata": {
        "colab": {
          "base_uri": "https://localhost:8080/"
        },
        "id": "aqA-TQRgp99q",
        "outputId": "bf99c315-780c-4239-caad-ad091fe6489d"
      },
      "execution_count": null,
      "outputs": [
        {
          "output_type": "stream",
          "name": "stdout",
          "text": [
            "the health advisories website\n"
          ]
        }
      ]
    },
    {
      "cell_type": "code",
      "source": [
        "def generate_answer(question):\n",
        "    model.eval()\n",
        "    input_text = \"question: \" + question + \" answer:\"\n",
        "    inputs = tokenizer.encode(input_text, return_tensors='pt').to(device)\n",
        "    outputs = model.generate(inputs, max_length=128, num_beams=4, early_stopping=True)\n",
        "    answer = tokenizer.decode(outputs[0], skip_special_tokens=True)\n",
        "    return answer\n",
        "\n",
        "question = \"What is the website for san jose state university?\"\n",
        "print(generate_answer(question))"
      ],
      "metadata": {
        "colab": {
          "base_uri": "https://localhost:8080/"
        },
        "id": "keB612MpqJw5",
        "outputId": "ca3ef709-eea8-45fd-c909-42487a539e70"
      },
      "execution_count": null,
      "outputs": [
        {
          "output_type": "stream",
          "name": "stdout",
          "text": [
            "www.sjsu.edu\n"
          ]
        }
      ]
    }
  ]
}