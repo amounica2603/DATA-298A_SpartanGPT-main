{
 "cells": [
  {
   "cell_type": "code",
   "execution_count": null,
   "metadata": {},
   "outputs": [],
   "source": [
    "extend\n",
    "essc\n",
    "counselored\n",
    "provost\n",
    "thebloc\n",
    "education\n",
    "strategicplan\n",
    "president\n",
    "housing\n",
    "visit\n",
    "visit_test_clean\n",
    "enrollmentmanagement\n",
    "cgr\n",
    "http\n",
    "facts-and-accomplishments\n",
    ".ipynb_checkpoints\n",
    "occupationaltherapy\n",
    "online\n",
    "transform\n",
    "soar"
   ]
  },
  {
   "cell_type": "code",
   "execution_count": 2,
   "metadata": {},
   "outputs": [],
   "source": [
    "import os\n",
    "import shutil\n",
    "\n",
    "# List of folder names to select\n",
    "selected_folders = ['treatyourselfwell',\n",
    "'discover',\n",
    "'isss',\n",
    "'teachered'\n",
    "'science'\n",
    "'transforming-communities',\n",
    "'about',\n",
    "'luriessc',\n",
    "'nursing',\n",
    "'advising',\n",
    "'chad',\n",
    "'specialed',\n",
    "'future_students',\n",
    "'healthadvisories',\n",
    "'people',\n",
    "'isb',\n",
    "'ecampus',\n",
    "'summer',\n",
    "'fyi']\n",
    "\n",
    "# Create a new directory to contain selected folders\n",
    "new_dir = 'selected_folders_Harsimran'\n",
    "if not os.path.exists(new_dir):\n",
    "    os.mkdir(new_dir)\n",
    "\n",
    "# Iterate through all folders in the current directory\n",
    "for folder in os.listdir('.'):\n",
    "    # Check if the folder is in the list of selected folders\n",
    "    if folder in selected_folders:\n",
    "        # If so, copy the folder and its contents to the new directory\n",
    "        shutil.copytree(folder, os.path.join(new_dir, folder))\n",
    "\n",
    "\n",
    "\n"
   ]
  },
  {
   "cell_type": "code",
   "execution_count": null,
   "metadata": {},
   "outputs": [],
   "source": []
  }
 ],
 "metadata": {
  "kernelspec": {
   "display_name": "Python 3",
   "language": "python",
   "name": "python3"
  },
  "language_info": {
   "codemirror_mode": {
    "name": "ipython",
    "version": 3
   },
   "file_extension": ".py",
   "mimetype": "text/x-python",
   "name": "python",
   "nbconvert_exporter": "python",
   "pygments_lexer": "ipython3",
   "version": "3.8.5"
  }
 },
 "nbformat": 4,
 "nbformat_minor": 4
}
